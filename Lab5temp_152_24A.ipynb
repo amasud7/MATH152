{
 "cells": [
  {
   "cell_type": "markdown",
   "id": "20c00fa5",
   "metadata": {},
   "source": [
    "## MATH 152 Lab 5"
   ]
  },
  {
   "cell_type": "markdown",
   "id": "7c243ef1",
   "metadata": {},
   "source": [
    "Put team members' names and section number here."
   ]
  },
  {
   "cell_type": "code",
   "execution_count": 2,
   "id": "cf836732",
   "metadata": {},
   "outputs": [],
   "source": [
    "import sympy as sp\n",
    "from sympy.plotting import (plot,plot_parametric)"
   ]
  },
  {
   "cell_type": "markdown",
   "id": "3169990f",
   "metadata": {},
   "source": [
    "### Question 1"
   ]
  },
  {
   "cell_type": "markdown",
   "id": "f0561a86",
   "metadata": {},
   "source": [
    "#### 1a"
   ]
  },
  {
   "cell_type": "code",
   "execution_count": 17,
   "id": "cbfab3f6",
   "metadata": {},
   "outputs": [
    {
     "data": {
      "text/plain": [
       "{A: -1/3, C: 2/3, B: -7/3, D: 14/3}"
      ]
     },
     "execution_count": 17,
     "metadata": {},
     "output_type": "execute_result"
    }
   ],
   "source": [
    "# Start your code here\n",
    "x = sp.symbols('x', positive=True)\n",
    "A, B, C, D = sp.symbols('A B C D')\n",
    "lhs = x + 7\n",
    "rhs = (A*x + B)*(2*x**2 + 9) + (C*x + D)*(x**2 + 4)\n",
    "r_expand = sp.expand(rhs)\n",
    "sp.collect(rhs, x)\n",
    "# equations to solve\n",
    "eq1 = 2*A + C\n",
    "eq2 = 2*B + D\n",
    "eq3 = 5*A + 4*C - 1\n",
    "eq4 = 5*B + 4*D - 7\n",
    "coeff = sp.solve([eq1, eq2, eq3, eq4], [A, B, C, D])\n",
    "coeff"
   ]
  },
  {
   "cell_type": "markdown",
   "id": "efdd616f",
   "metadata": {},
   "source": [
    "#### 1b "
   ]
  },
  {
   "cell_type": "code",
   "execution_count": 6,
   "id": "898de08d",
   "metadata": {},
   "outputs": [
    {
     "data": {
      "text/latex": [
       "$\\displaystyle - \\frac{2 \\left(x + 7\\right)}{2 x^{2} + 9} + \\frac{x + 7}{x^{2} + 4}$"
      ],
      "text/plain": [
       "-2*(x + 7)/(2*x**2 + 9) + (x + 7)/(x**2 + 4)"
      ]
     },
     "execution_count": 6,
     "metadata": {},
     "output_type": "execute_result"
    }
   ],
   "source": [
    "# Start your code here\n",
    "rational = (x+7)/(2*x**4 + 17*x**2 + 36)\n",
    "integral = sp.apart(rational)\n",
    "integral"
   ]
  },
  {
   "cell_type": "markdown",
   "id": "adba38fb",
   "metadata": {},
   "source": [
    "#### 1c"
   ]
  },
  {
   "cell_type": "code",
   "execution_count": 7,
   "id": "068e0f93",
   "metadata": {},
   "outputs": [
    {
     "name": "stdout",
     "output_type": "stream",
     "text": [
      "This is the answer from part a/b: \n",
      "log(x**2 + 4)/2 - log(x**2 + 9/2)/2 + 7*atan(x/2)/2 - 7*sqrt(2)*atan(sqrt(2)*x/3)/3\n",
      "This is the answer from integrating directly: \n",
      "log(x**2 + 4)/2 - log(x**2 + 9/2)/2 + 7*atan(x/2)/2 - 7*sqrt(2)*atan(sqrt(2)*x/3)/3\n"
     ]
    }
   ],
   "source": [
    "# Start your code here\n",
    "answer1 = sp.integrate(integral, x)\n",
    "answer2 = sp.integrate(rational, x)\n",
    "print(f\"This is the answer from part a/b: \")\n",
    "print(answer1)\n",
    "print(f\"This is the answer from integrating directly: \")\n",
    "print(answer2)"
   ]
  },
  {
   "cell_type": "markdown",
   "id": "8b00f000",
   "metadata": {},
   "source": [
    "### Question 2 "
   ]
  },
  {
   "cell_type": "markdown",
   "id": "ccffd0d0",
   "metadata": {},
   "source": [
    "#### 2a"
   ]
  },
  {
   "cell_type": "code",
   "execution_count": 8,
   "id": "9ebb9309",
   "metadata": {},
   "outputs": [
    {
     "name": "stdout",
     "output_type": "stream",
     "text": [
      "Value of a is: 10.5917306617767\n"
     ]
    }
   ],
   "source": [
    "# Start your code here\n",
    "x = sp.symbols('x', positive=True)\n",
    "a = sp.symbols('a', positive=True)\n",
    "function = (x**2)/(x**5 + a**2)\n",
    "integral = sp.integrate(function, (x, 0, sp.oo))\n",
    "answer1 = sp.solve(integral-0.1, a)\n",
    "print(f\"Value of a is: {answer1[0]}\")"
   ]
  },
  {
   "cell_type": "markdown",
   "id": "baa2be1a",
   "metadata": {},
   "source": [
    "#### 2b"
   ]
  },
  {
   "cell_type": "code",
   "execution_count": 9,
   "id": "92832935",
   "metadata": {},
   "outputs": [
    {
     "name": "stdout",
     "output_type": "stream",
     "text": [
      "a is equal to: 1.07812886361817\n"
     ]
    }
   ],
   "source": [
    "# Start your code here\n",
    "function = (x**6) * (sp.E**-x**7)\n",
    "lhs = sp.integrate(function, (x, 1, a))\n",
    "rhs = sp.integrate(function, (x, a, sp.oo))\n",
    "a_val = sp.solve(lhs - rhs, a)\n",
    "print(f\"a is equal to: {a_val[0].evalf()}\")"
   ]
  },
  {
   "cell_type": "markdown",
   "id": "3dcc5f6d",
   "metadata": {},
   "source": [
    "#### 2c"
   ]
  },
  {
   "cell_type": "code",
   "execution_count": 18,
   "id": "67d0a563",
   "metadata": {},
   "outputs": [
    {
     "data": {
      "text/latex": [
       "$\\displaystyle 0.0525542058816346$"
      ],
      "text/plain": [
       "0.0525542058816346"
      ]
     },
     "execution_count": 18,
     "metadata": {},
     "output_type": "execute_result"
    }
   ],
   "source": [
    "# Start your code here\n",
    "lhs = sp.integrate(function, (x, 1, a_val))\n",
    "rhs = sp.integrate(function, (x, a_val, sp.oo))\n",
    "ans = lhs + rhs\n",
    "ans.evalf()"
   ]
  },
  {
   "cell_type": "markdown",
   "id": "7e20a1d3",
   "metadata": {},
   "source": [
    "### Question 3"
   ]
  },
  {
   "cell_type": "markdown",
   "id": "f695ae23",
   "metadata": {},
   "source": [
    "#### 3a"
   ]
  },
  {
   "cell_type": "code",
   "execution_count": 10,
   "id": "41756879",
   "metadata": {},
   "outputs": [
    {
     "name": "stdout",
     "output_type": "stream",
     "text": [
      "1/x diverges because integral results in: oo\n"
     ]
    }
   ],
   "source": [
    "# Start your code here\n",
    "f = (sp.sin(x)+2)/x\n",
    "g = 1/x\n",
    "integral = sp.integrate(g, (x, 1,  sp.oo))\n",
    "print(f\"{g} diverges because integral results in: {integral.evalf()}\")"
   ]
  },
  {
   "cell_type": "markdown",
   "id": "35d20561",
   "metadata": {},
   "source": [
    "#### 3b"
   ]
  },
  {
   "cell_type": "code",
   "execution_count": 33,
   "id": "21ea705e",
   "metadata": {},
   "outputs": [
    {
     "data": {
      "image/png": "[encoded data removed]",
      "text/plain": [
       "<Figure size 640x480 with 1 Axes>"
      ]
     },
     "metadata": {},
     "output_type": "display_data"
    }
   ],
   "source": [
    "# Start your code here\n",
    "plots = plot(f, (x, 1, 10), line_color='r', show=False)\n",
    "plots.extend(plot(g, (x, 1, 10), show=False))\n",
    "plots.show()"
   ]
  },
  {
   "cell_type": "markdown",
   "id": "e256ce52",
   "metadata": {},
   "source": [
    "#### 3c"
   ]
  },
  {
   "cell_type": "code",
   "execution_count": 40,
   "id": "634d3d59",
   "metadata": {},
   "outputs": [
    {
     "name": "stdout",
     "output_type": "stream",
     "text": [
      "(sin(x) + 2)/x diverges because integral results in oo\n"
     ]
    }
   ],
   "source": [
    "# Start your code here\n",
    "integral = sp.integrate(f, (x, 1, sp.oo))\n",
    "print(f\"{f} diverges because integral results in {integral.evalf()}\")"
   ]
  },
  {
   "cell_type": "markdown",
   "id": "809cd585",
   "metadata": {},
   "source": [
    "#### 3d"
   ]
  },
  {
   "cell_type": "code",
   "execution_count": 44,
   "id": "9e851299",
   "metadata": {},
   "outputs": [
    {
     "name": "stdout",
     "output_type": "stream",
     "text": [
      "I could use the comparison test to determine if the function f(x) diverges or not\n"
     ]
    }
   ],
   "source": [
    "# Write your answer either in comments or in a print statement.\n",
    "print(\"I could use the comparison test to determine if the function f(x) diverges or not\")"
   ]
  }
 ],
 "metadata": {
  "kernelspec": {
   "display_name": "Python 3 (ipykernel)",
   "language": "python",
   "name": "python3"
  },
  "language_info": {
   "codemirror_mode": {
    "name": "ipython",
    "version": 3
   },
   "file_extension": ".py",
   "mimetype": "text/x-python",
   "name": "python",
   "nbconvert_exporter": "python",
   "pygments_lexer": "ipython3",
   "version": "3.11.4"
  }
 },
 "nbformat": 4,
 "nbformat_minor": 5
}
