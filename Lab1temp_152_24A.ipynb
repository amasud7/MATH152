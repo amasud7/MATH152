{
 "cells": [
  {
   "cell_type": "markdown",
   "id": "20c00fa5",
   "metadata": {},
   "source": [
    "## MATH 152 Lab 1"
   ]
  },
  {
   "cell_type": "markdown",
   "id": "7c243ef1",
   "metadata": {},
   "source": [
    "Put team members' names and section number here."
   ]
  },
  {
   "cell_type": "code",
   "execution_count": 2,
   "id": "cf836732",
   "metadata": {},
   "outputs": [],
   "source": [
    "# Section Number:\n",
    "import sympy as sp\n",
    "from sympy.plotting import (plot,plot_parametric)"
   ]
  },
  {
   "cell_type": "markdown",
   "id": "a0cd9e48",
   "metadata": {},
   "source": [
    "Instructions: Complete the lab assignment in your assigned groups. Unless stated otherwise, your answers should be obtained using Python code.\n",
    "\n",
    "Do not modify the cell above, as it contains all the packages you will need. It is highly recommended to not use any additional packages.\n",
    "\n",
    "NOTE: If you took MATH 151 last semester, notice that the import statement for SymPy is different- for each SymPy command you use, you have to preface it with \"sp.\" For example, \"symbols('x')\" becomes \"sp.symbols('x')\". **Except for plot and plot_parametric**- you don't need to type \"sp.\" for those."
   ]
  },
  {
   "cell_type": "markdown",
   "id": "3169990f",
   "metadata": {},
   "source": [
    "### Question 1"
   ]
  },
  {
   "cell_type": "markdown",
   "id": "f0561a86",
   "metadata": {},
   "source": [
    "#### 1a"
   ]
  },
  {
   "cell_type": "code",
   "execution_count": 3,
   "id": "cbfab3f6",
   "metadata": {},
   "outputs": [
    {
     "name": "stdout",
     "output_type": "stream",
     "text": [
      "-2*x**2 + 100*x\n"
     ]
    }
   ],
   "source": [
    "#start code here\n",
    "x = sp.symbols('x')\n",
    "# side length \n",
    "length = 100-2*x\n",
    "width = x\n",
    "area = length * width\n",
    "areaExpanded = area.expand()\n",
    "print(areaExpanded)"
   ]
  },
  {
   "cell_type": "markdown",
   "id": "efdd616f",
   "metadata": {},
   "source": [
    "#### 1b"
   ]
  },
  {
   "cell_type": "code",
   "execution_count": 4,
   "id": "6fd5ac31",
   "metadata": {},
   "outputs": [
    {
     "name": "stdout",
     "output_type": "stream",
     "text": [
      "This is the area when the sides are 15 yards: 1050 yards\n"
     ]
    }
   ],
   "source": [
    "# area when the sides are 15 yards\n",
    "areafive = areaExpanded.subs(x, 15) \n",
    "print(f\"This is the area when the sides are 15 yards: {areafive} yards\")"
   ]
  },
  {
   "cell_type": "markdown",
   "id": "6889b8e7",
   "metadata": {},
   "source": [
    "#### 1c"
   ]
  },
  {
   "cell_type": "code",
   "execution_count": 5,
   "id": "d20a7a8e",
   "metadata": {},
   "outputs": [
    {
     "name": "stdout",
     "output_type": "stream",
     "text": [
      "x has to be 20 yards or 30 yards for the area to be 1200 yards squared.\n"
     ]
    }
   ],
   "source": [
    "# solving for how long x should be for area to equal 1200\n",
    "equation = (-2*x**2) + (100*x) - 1200\n",
    "solved = sp.solve(equation)\n",
    "print(f\"x has to be {solved[0]} yards or {solved[1]} yards for the area to be 1200 yards squared.\")"
   ]
  },
  {
   "cell_type": "markdown",
   "id": "3a7e1713",
   "metadata": {},
   "source": [
    "#### 1d"
   ]
  },
  {
   "cell_type": "code",
   "execution_count": 6,
   "id": "8b00ae4b",
   "metadata": {},
   "outputs": [
    {
     "data": {
      "image/png": "[encoded data removed]",
      "text/plain": [
       "<Figure size 640x480 with 1 Axes>"
      ]
     },
     "metadata": {},
     "output_type": "display_data"
    },
    {
     "data": {
      "text/plain": [
       "<sympy.plotting.plot.Plot at 0x10a796c50>"
      ]
     },
     "execution_count": 6,
     "metadata": {},
     "output_type": "execute_result"
    }
   ],
   "source": [
    "#start code here\n",
    "plot(areaExpanded, (x, 0, 50))"
   ]
  },
  {
   "cell_type": "markdown",
   "id": "588fed78",
   "metadata": {},
   "source": [
    "#### 1e"
   ]
  },
  {
   "cell_type": "code",
   "execution_count": 7,
   "id": "6063c3d4",
   "metadata": {},
   "outputs": [
    {
     "name": "stdout",
     "output_type": "stream",
     "text": [
      "The x value that maximizes the area is 25.\n"
     ]
    }
   ],
   "source": [
    "# find x value of maximum\n",
    "deriv = sp.diff(areaExpanded, x)\n",
    "critNum = sp.solve(deriv, x)\n",
    "print(f\"The x value that maximizes the area is {critNum[0]}.\")"
   ]
  },
  {
   "cell_type": "markdown",
   "id": "8b00f000",
   "metadata": {},
   "source": [
    "### Question 2"
   ]
  },
  {
   "cell_type": "markdown",
   "id": "bacdc1db",
   "metadata": {},
   "source": [
    "#### 2a"
   ]
  },
  {
   "cell_type": "code",
   "execution_count": 8,
   "id": "be2f2c71",
   "metadata": {},
   "outputs": [
    {
     "name": "stdout",
     "output_type": "stream",
     "text": [
      "u = x**3 + 16 because that is the inside function\n",
      "du = 3*x**2dx because that is what you get when taking the derivative of u\n"
     ]
    }
   ],
   "source": [
    "# getting u and du\n",
    "# i picked this u on paper because it is the inside function\n",
    "# Then solve for du \n",
    "f = x**5 * ((x**3)+16)**(sp.Rational(1, 2))\n",
    "print(f\"u = {x**3 + 16} because that is the inside function\")\n",
    "print(f\"du = {3*x**2}dx because that is what you get when taking the derivative of u\")\n"
   ]
  },
  {
   "cell_type": "markdown",
   "id": "23bc68a6",
   "metadata": {},
   "source": [
    "#### 2b"
   ]
  },
  {
   "cell_type": "code",
   "execution_count": 25,
   "id": "357bbf0f",
   "metadata": {},
   "outputs": [
    {
     "name": "stdout",
     "output_type": "stream",
     "text": [
      "This is the indefinite du-integral: 2*u**(5/2)/15 - 32*u**(3/2)/9\n",
      "This is the integral with finished u-sub: 2*x**6*sqrt(x**3 + 16)/15 + 32*x**3*sqrt(x**3 + 16)/45 - 1024*sqrt(x**3 + 16)/45 + C\n"
     ]
    }
   ],
   "source": [
    "# do integration with u sub\n",
    "u = sp.symbols('u')\n",
    "integral = (2*(u)**sp.Rational(5, 2))/15 - (32*(u)**sp.Rational(3, 2))/9\n",
    "uVal = (x**3) + 16\n",
    "final = integral.subs(u, uVal)\n",
    "print(f\"This is the indefinite du-integral: {integral}\")\n",
    "print(f\"This is the integral with finished u-sub: {final.expand()} + C\")"
   ]
  },
  {
   "cell_type": "markdown",
   "id": "d4c7adb9",
   "metadata": {},
   "source": [
    "#### 2c"
   ]
  },
  {
   "cell_type": "code",
   "execution_count": 26,
   "id": "e20a3063",
   "metadata": {},
   "outputs": [
    {
     "name": "stdout",
     "output_type": "stream",
     "text": [
      "This is the integral using integrate function 2*x**6*sqrt(x**3 + 16)/15 + 32*x**3*sqrt(x**3 + 16)/45 - 1024*sqrt(x**3 + 16)/45\n",
      "As you can see it is the same as the u-sub using substitution function above: 2*x**6*sqrt(x**3 + 16)/15 + 32*x**3*sqrt(x**3 + 16)/45 - 1024*sqrt(x**3 + 16)/45\n"
     ]
    }
   ],
   "source": [
    "# write function and integrate straight without u\n",
    "function = (x**5) * (x**3 + 16)**sp.Rational(1, 2)\n",
    "usub = sp.integrate(function, x)\n",
    "print(f\"This is the integral using integrate function {usub}\")\n",
    "print(f\"As you can see it is the same as the u-sub using substitution function above: {final.expand()}\")"
   ]
  },
  {
   "cell_type": "markdown",
   "id": "1ef4d714",
   "metadata": {},
   "source": [
    "#### 2d"
   ]
  },
  {
   "cell_type": "code",
   "execution_count": 28,
   "id": "4e7b3b96",
   "metadata": {},
   "outputs": [
    {
     "name": "stdout",
     "output_type": "stream",
     "text": [
      "This is the integral integrated from -1 to 1: -986*sqrt(17)/45 + 70*sqrt(15)/3\n"
     ]
    }
   ],
   "source": [
    "#start code here\n",
    "function = x**5 * (x**3 + 16)**sp.Rational(1, 2)\n",
    "usub = sp.integrate(function, x)\n",
    "topBound = usub.subs(x, 1)\n",
    "bottomBound = usub.subs(x, -1)\n",
    "finalIntegral = topBound - bottomBound\n",
    "print(f\"This is the integral integrated from -1 to 1: {finalIntegral}\")"
   ]
  },
  {
   "cell_type": "markdown",
   "id": "a561777e",
   "metadata": {},
   "source": [
    "#### 2e"
   ]
  },
  {
   "cell_type": "code",
   "execution_count": 29,
   "id": "f83d69df",
   "metadata": {},
   "outputs": [
    {
     "name": "stdout",
     "output_type": "stream",
     "text": [
      "This is using the integrate function with bounds: -986*sqrt(17)/45 + 70*sqrt(15)/3\n",
      "As you can see it is the same answer as the previous part: -986*sqrt(17)/45 + 70*sqrt(15)/3\n"
     ]
    }
   ],
   "source": [
    "#start code here\n",
    "function = x**5 * (x**3 + 16)**sp.Rational(1, 2)\n",
    "print(f\"This is using the integrate function with bounds: {sp.integrate(function, (x, -1, 1))}\")\n",
    "print(f\"As you can see it is the same answer as the previous part: {finalIntegral}\")"
   ]
  },
  {
   "cell_type": "code",
   "execution_count": null,
   "id": "1073281f",
   "metadata": {},
   "outputs": [],
   "source": []
  }
 ],
 "metadata": {
  "kernelspec": {
   "display_name": "Python 3 (ipykernel)",
   "language": "python",
   "name": "python3"
  },
  "language_info": {
   "codemirror_mode": {
    "name": "ipython",
    "version": 3
   },
   "file_extension": ".py",
   "mimetype": "text/x-python",
   "name": "python",
   "nbconvert_exporter": "python",
   "pygments_lexer": "ipython3",
   "version": "3.11.4"
  }
 },
 "nbformat": 4,
 "nbformat_minor": 5
}
